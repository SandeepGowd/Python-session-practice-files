{
 "cells": [
  {
   "cell_type": "code",
   "execution_count": 2,
   "metadata": {
    "scrolled": true
   },
   "outputs": [
    {
     "name": "stdout",
     "output_type": "stream",
     "text": [
      "['hero', 'ranger', 'bmx', 'redline']\n",
      "ranger\n",
      "redline\n"
     ]
    }
   ],
   "source": [
    "bicycles = ['hero','ranger','bmx','redline']\n",
    "\n",
    "print(bicycles)\n",
    "\n",
    "#how to print a particular item in the list? --outpu req 'ranger'\n",
    "\n",
    "print(bicycles[1])\n",
    "\n",
    "#how to print the exact item from a given list?\n",
    "\n",
    "#indexing of lists\n",
    "\n",
    "#knowing the position......  0,1,2,3.......\n",
    "\n",
    "print(bicycles[3])\n",
    "\n",
    "#what if i want to give the index which is not there in the list...?**\n",
    "\n",
    "#print(bicycles[4])  it will through Index error"
   ]
  },
  {
   "cell_type": "code",
   "execution_count": 4,
   "metadata": {},
   "outputs": [
    {
     "name": "stdout",
     "output_type": "stream",
     "text": [
      "Hero\n",
      "HERO\n"
     ]
    }
   ],
   "source": [
    "bicycles = ['hero','ranger','bmx','redline']\n",
    "\n",
    "print(bicycles[0].title())\n",
    "print(bicycles[0].upper())"
   ]
  },
  {
   "cell_type": "code",
   "execution_count": 5,
   "metadata": {},
   "outputs": [
    {
     "name": "stdout",
     "output_type": "stream",
     "text": [
      "my first bicycle was Ranger.\n"
     ]
    }
   ],
   "source": [
    "bicycles = ['hero','ranger','bmx','redline']\n",
    "\n",
    "message=f\"my first bicycle was {bicycles[1].title()}.\"\n",
    "\n",
    "print(message)"
   ]
  },
  {
   "cell_type": "code",
   "execution_count": 28,
   "metadata": {},
   "outputs": [
    {
     "name": "stdout",
     "output_type": "stream",
     "text": [
      "['honda', 'yamaha', 'suzuki']\n",
      "['ducati', 'yamaha', 'suzuki']\n"
     ]
    }
   ],
   "source": [
    "# how to change,add and modify elements in a list\n",
    "\n",
    "motorcycles = ['honda','yamaha','suzuki']\n",
    "print(motorcycles)\n",
    "#1. How to change the element in the list\n",
    "motorcycles = ['honda','yamaha','suzuki']\n",
    "motorcycles[0]='ducati'\n",
    "print(motorcycles)\n",
    "#2.how to add or append the element in the list       "
   ]
  },
  {
   "cell_type": "code",
   "execution_count": 9,
   "metadata": {},
   "outputs": [
    {
     "name": "stdout",
     "output_type": "stream",
     "text": [
      "['honda', 'yamha', 'suzuki']\n",
      "['honda', 'yamha', 'suzuki', 'ducati']\n"
     ]
    }
   ],
   "source": [
    "motorcycles = ['honda','yamha','suzuki']\n",
    "print(motorcycles)\n",
    "\n",
    "motorcycles.append('ducati')\n",
    "print(motorcycles)"
   ]
  },
  {
   "cell_type": "code",
   "execution_count": 10,
   "metadata": {},
   "outputs": [
    {
     "name": "stdout",
     "output_type": "stream",
     "text": [
      "['honda', 'yamha', 'suzuki']\n",
      "['honda', 'ducati', 'yamha', 'suzuki']\n"
     ]
    }
   ],
   "source": [
    "motorcycles = ['honda','yamha','suzuki']\n",
    "print(motorcycles)\n",
    "#one poin to remember\n",
    "\n",
    "#if I wanted to include 'ducati' in the first index position of the above given list\n",
    "\n",
    "motorcycles.insert(1,'ducati')\n",
    "\n",
    "print(motorcycles)"
   ]
  },
  {
   "cell_type": "code",
   "execution_count": 12,
   "metadata": {},
   "outputs": [
    {
     "name": "stdout",
     "output_type": "stream",
     "text": [
      "['audi', 'bmw', 'volvo', 'swifit', 'cruze']\n"
     ]
    }
   ],
   "source": [
    "car = []\n",
    "\n",
    "#creating an empty list...\n",
    "\n",
    "car.append('audi')\n",
    "car.append('bmw')\n",
    "car.append('volvo')\n",
    "car.append('swifit')\n",
    "car.append('cruze')\n",
    "\n",
    "print(car)"
   ]
  },
  {
   "cell_type": "code",
   "execution_count": 17,
   "metadata": {},
   "outputs": [
    {
     "name": "stdout",
     "output_type": "stream",
     "text": [
      "['honda', 'yamha', 'suzuki', 'r15', 'pulsar']\n",
      "['honda', 'yamha', 'r15', 'pulsar']\n",
      "['honda', 'yamha', 'suzuki', 'r15', 'pulsar']\n",
      "['honda', 'yamha', 'suzuki', 'r15']\n",
      "['honda', 'suzuki', 'r15']\n"
     ]
    }
   ],
   "source": [
    "#How to delete the items in the list\n",
    "motorcycles = ['honda','yamha','suzuki','r15','pulsar']\n",
    "print(motorcycles)\n",
    "#Two ways we can acheive this\n",
    "\n",
    "del motorcycles[2]\n",
    "\n",
    "print(motorcycles)\n",
    "\n",
    "motorcycles = ['honda','yamha','suzuki','r15','pulsar']\n",
    "print(motorcycles)\n",
    "\n",
    "motorcycles.pop()  #Used to delete the last index value\n",
    "print(motorcycles)\n",
    "\n",
    "motorcycles.pop(1)  #Used to delete the specified index value\n",
    "print(motorcycles)\n",
    "\n",
    "#pop() will not delete the items permanently...The deleted items will be stored seperatley in another variable declared.\n"
   ]
  },
  {
   "cell_type": "code",
   "execution_count": 23,
   "metadata": {},
   "outputs": [
    {
     "name": "stdout",
     "output_type": "stream",
     "text": [
      "['honda', 'yamha', 'suzuki', 'r15', 'pulsar', 'hayabusa']\n",
      "['hayabusa', 'honda', 'pulsar', 'r15', 'suzuki', 'yamha']\n",
      "['yamha', 'suzuki', 'r15', 'pulsar', 'honda', 'hayabusa']\n"
     ]
    },
    {
     "data": {
      "text/plain": [
       "6"
      ]
     },
     "execution_count": 23,
     "metadata": {},
     "output_type": "execute_result"
    }
   ],
   "source": [
    "motorcycles = ['honda','yamha','suzuki','r15','pulsar','hayabusa']\n",
    "print(motorcycles)\n",
    "\n",
    "#how to sort a list?\n",
    "\n",
    "motorcycles.sort()\n",
    "print(motorcycles)\n",
    "\n",
    "#how to prnt the elements in a list in a reverse order?\n",
    "\n",
    "motorcycles.reverse()\n",
    "print(motorcycles)\n",
    "\n",
    "#how to count the number of elements present in a list?\n",
    "\n",
    "len(motorcycles)"
   ]
  },
  {
   "cell_type": "code",
   "execution_count": null,
   "metadata": {},
   "outputs": [],
   "source": []
  }
 ],
 "metadata": {
  "kernelspec": {
   "display_name": "Python 3",
   "language": "python",
   "name": "python3"
  },
  "language_info": {
   "codemirror_mode": {
    "name": "ipython",
    "version": 3
   },
   "file_extension": ".py",
   "mimetype": "text/x-python",
   "name": "python",
   "nbconvert_exporter": "python",
   "pygments_lexer": "ipython3",
   "version": "3.7.3"
  }
 },
 "nbformat": 4,
 "nbformat_minor": 2
}
