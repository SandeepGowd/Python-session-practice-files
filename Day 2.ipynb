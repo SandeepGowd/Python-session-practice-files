{
 "cells": [
  {
   "cell_type": "code",
   "execution_count": 3,
   "metadata": {},
   "outputs": [],
   "source": [
    "#How to comment the code in Python?\n",
    "\n",
    "# This is a commented line"
   ]
  },
  {
   "cell_type": "code",
   "execution_count": 4,
   "metadata": {},
   "outputs": [
    {
     "name": "stdout",
     "output_type": "stream",
     "text": [
      "2 3.0\n"
     ]
    }
   ],
   "source": [
    "#Different types of numbers:\n",
    "#integers\n",
    "#float\n",
    "\n",
    "\n",
    "x=2\n",
    "y=3.0\n",
    "\n",
    "print(x,y)\n"
   ]
  },
  {
   "cell_type": "code",
   "execution_count": 5,
   "metadata": {},
   "outputs": [
    {
     "name": "stdout",
     "output_type": "stream",
     "text": [
      "2 3 4\n"
     ]
    }
   ],
   "source": [
    "#advanced approach of assignment:\n",
    "x,y,z=2,3,4\n",
    "\n",
    "print(x,y,z)"
   ]
  },
  {
   "cell_type": "code",
   "execution_count": 6,
   "metadata": {},
   "outputs": [
    {
     "name": "stdout",
     "output_type": "stream",
     "text": [
      "100\n"
     ]
    }
   ],
   "source": [
    "#Constants in python\n",
    "\n",
    "#In python we will declare constant variable in capital letters\n",
    "\n",
    "MAX_CONNECTIONS = 100\n",
    "print(MAX_CONNECTIONS)"
   ]
  },
  {
   "cell_type": "code",
   "execution_count": 7,
   "metadata": {},
   "outputs": [
    {
     "name": "stdout",
     "output_type": "stream",
     "text": [
      "[18, 23, 56, 55]\n"
     ]
    }
   ],
   "source": [
    "#Introduction to List - data type:\n",
    "\n",
    "#A List is an colletion of items in a particular order. List is an mutable data type.\n",
    "#How to define a list\n",
    "ages =[18,23,56,55]\n",
    "print(ages)\n"
   ]
  },
  {
   "cell_type": "code",
   "execution_count": 18,
   "metadata": {},
   "outputs": [
    {
     "name": "stdout",
     "output_type": "stream",
     "text": [
      "['hero', 'redline', 'trek', 'ranger']\n",
      "trek\n",
      "Trek\n",
      "TREK\n"
     ]
    }
   ],
   "source": [
    "bicycles =['hero','redline','trek','ranger']\n",
    "print(bicycles)\n",
    "print(bicycles[2])\n",
    "print(bicycles[2].title())\n",
    "print(bicycles[2].upper())"
   ]
  },
  {
   "cell_type": "code",
   "execution_count": null,
   "metadata": {},
   "outputs": [],
   "source": []
  }
 ],
 "metadata": {
  "kernelspec": {
   "display_name": "Python 3",
   "language": "python",
   "name": "python3"
  },
  "language_info": {
   "codemirror_mode": {
    "name": "ipython",
    "version": 3
   },
   "file_extension": ".py",
   "mimetype": "text/x-python",
   "name": "python",
   "nbconvert_exporter": "python",
   "pygments_lexer": "ipython3",
   "version": "3.7.3"
  }
 },
 "nbformat": 4,
 "nbformat_minor": 2
}
