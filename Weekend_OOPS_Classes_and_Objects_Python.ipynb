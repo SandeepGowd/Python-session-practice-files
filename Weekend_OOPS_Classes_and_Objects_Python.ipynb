{
 "cells": [
  {
   "cell_type": "code",
   "execution_count": 1,
   "metadata": {},
   "outputs": [],
   "source": [
    "#Introduction to python classes\n",
    "\n",
    "\n",
    "#1.Class\n",
    "#2.Method \n",
    "#3.Constructor\n",
    "#4. Object or Instance"
   ]
  },
  {
   "cell_type": "code",
   "execution_count": 2,
   "metadata": {},
   "outputs": [],
   "source": [
    "# Python is a case sensitive language"
   ]
  },
  {
   "cell_type": "code",
   "execution_count": 3,
   "metadata": {},
   "outputs": [
    {
     "name": "stdout",
     "output_type": "stream",
     "text": [
      "my dog's name is Willie\n",
      "my dog is 6 years old\n",
      "your dog's name is bruno\n",
      "your dog is 8 years old\n",
      "Willieis now sitting\n",
      "Willie rolled over\n"
     ]
    },
    {
     "ename": "NameError",
     "evalue": "name 'someones_dog' is not defined",
     "output_type": "error",
     "traceback": [
      "\u001b[1;31m---------------------------------------------------------------------------\u001b[0m",
      "\u001b[1;31mNameError\u001b[0m                                 Traceback (most recent call last)",
      "\u001b[1;32m<ipython-input-3-a71c7beede59>\u001b[0m in \u001b[0;36m<module>\u001b[1;34m\u001b[0m\n\u001b[0;32m     38\u001b[0m \u001b[0mSomeones_dog\u001b[0m\u001b[1;33m=\u001b[0m\u001b[0mDog\u001b[0m\u001b[1;33m(\u001b[0m\u001b[1;34m'puppy'\u001b[0m\u001b[1;33m,\u001b[0m\u001b[1;36m9\u001b[0m\u001b[1;33m)\u001b[0m \u001b[1;31m#this is an example for case sensitive\u001b[0m\u001b[1;33m\u001b[0m\u001b[1;33m\u001b[0m\u001b[0m\n\u001b[0;32m     39\u001b[0m \u001b[1;33m\u001b[0m\u001b[0m\n\u001b[1;32m---> 40\u001b[1;33m \u001b[0msomeones_dog\u001b[0m\u001b[1;33m.\u001b[0m\u001b[0msit\u001b[0m\u001b[1;33m(\u001b[0m\u001b[1;33m)\u001b[0m\u001b[1;33m\u001b[0m\u001b[1;33m\u001b[0m\u001b[0m\n\u001b[0m",
      "\u001b[1;31mNameError\u001b[0m: name 'someones_dog' is not defined"
     ]
    }
   ],
   "source": [
    "# How to create a class and how to use the class in Python?\n",
    "\n",
    "class Dog:\n",
    "    \"\"\"A Simple attempt to model a dog\"\"\"   #Doc string\n",
    "    def __init__(self,name,age):\n",
    "         #Special method called as constructor,\n",
    "         #it is used to initialize the variables automatically inside a class\n",
    "         #we need to use __init__\n",
    "         self.name=name\n",
    "         self.age=age\n",
    "\n",
    "    def sit(self):   #method inside a class.\n",
    "        \"\"\"Simulate a dog sitting and age attribute\"\"\"   #Doc string\n",
    "        print(f\"{self.name}is now sitting\")\n",
    "\n",
    "    def roll_over(self):  #method inside a class.\n",
    "        \"\"\"Simulate rolling over in response\"\"\"   #Doc string\n",
    "        print(f\"{self.name} rolled over\")\n",
    "   \n",
    "    def sleep(self):\n",
    "        \"\"\"Simulate sleeping response\"\"\"   #Doc string\n",
    "        print(f\"{self.name} is now sleeping\")\n",
    "\n",
    "my_dog=Dog('Willie',6)  # We can use a class by creating an object\n",
    "\n",
    "print(f\"my dog's name is {my_dog.name}\")\n",
    "print(f\"my dog is {my_dog.age} years old\")\n",
    "\n",
    "your_dog=Dog('bruno',8)  #Dynamic passing of arguments\n",
    "\n",
    "print(f\"your dog's name is {your_dog.name}\")\n",
    "print(f\"your dog is {your_dog.age} years old\")\n",
    "\n",
    "my_dog.sit()\n",
    "\n",
    "my_dog.roll_over()\n",
    "\n",
    "Someones_dog=Dog('puppy',9) #this is an example for case sensitive\n",
    "\n",
    "someones_dog.sit()\n"
   ]
  },
  {
   "cell_type": "code",
   "execution_count": null,
   "metadata": {},
   "outputs": [],
   "source": []
  }
 ],
 "metadata": {
  "kernelspec": {
   "display_name": "Python 3",
   "language": "python",
   "name": "python3"
  },
  "language_info": {
   "codemirror_mode": {
    "name": "ipython",
    "version": 3
   },
   "file_extension": ".py",
   "mimetype": "text/x-python",
   "name": "python",
   "nbconvert_exporter": "python",
   "pygments_lexer": "ipython3",
   "version": "3.7.3"
  }
 },
 "nbformat": 4,
 "nbformat_minor": 2
}
