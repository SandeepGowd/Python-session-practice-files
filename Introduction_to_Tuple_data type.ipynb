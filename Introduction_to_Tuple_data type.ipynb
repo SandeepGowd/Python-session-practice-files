{
 "cells": [
  {
   "cell_type": "code",
   "execution_count": 1,
   "metadata": {},
   "outputs": [
    {
     "name": "stdout",
     "output_type": "stream",
     "text": [
      "10\n",
      "20\n"
     ]
    }
   ],
   "source": [
    "#Introduction to Tuple_data type\n",
    "\n",
    "#Why tuple is needed?\n",
    "#if we want a list of items that cannot change, then we want to create a rectangle that should always be an fixed\n",
    "\n",
    "Area_Rect=(10,20,30)\n",
    "\n",
    "print(Area_Rect[0])\n",
    "\n",
    "print(Area_Rect[1])"
   ]
  },
  {
   "cell_type": "code",
   "execution_count": 3,
   "metadata": {},
   "outputs": [
    {
     "ename": "TypeError",
     "evalue": "'tuple' object does not support item assignment",
     "output_type": "error",
     "traceback": [
      "\u001b[1;31m---------------------------------------------------------------------------\u001b[0m",
      "\u001b[1;31mTypeError\u001b[0m                                 Traceback (most recent call last)",
      "\u001b[1;32m<ipython-input-3-ed2598597563>\u001b[0m in \u001b[0;36m<module>\u001b[1;34m\u001b[0m\n\u001b[0;32m      1\u001b[0m \u001b[0mArea_Rect\u001b[0m\u001b[1;33m=\u001b[0m\u001b[1;33m(\u001b[0m\u001b[1;36m10\u001b[0m\u001b[1;33m,\u001b[0m\u001b[1;36m20\u001b[0m\u001b[1;33m,\u001b[0m\u001b[1;36m30\u001b[0m\u001b[1;33m)\u001b[0m\u001b[1;33m\u001b[0m\u001b[1;33m\u001b[0m\u001b[0m\n\u001b[1;32m----> 2\u001b[1;33m \u001b[0mArea_Rect\u001b[0m\u001b[1;33m[\u001b[0m\u001b[1;36m0\u001b[0m\u001b[1;33m]\u001b[0m\u001b[1;33m=\u001b[0m\u001b[1;36m40\u001b[0m\u001b[1;33m\u001b[0m\u001b[1;33m\u001b[0m\u001b[0m\n\u001b[0m",
      "\u001b[1;31mTypeError\u001b[0m: 'tuple' object does not support item assignment"
     ]
    }
   ],
   "source": [
    "Area_Rect=(10,20,30)\n",
    "\n",
    "Area_Rect[0]=40\n",
    "#Assignment for tuple is not supported"
   ]
  },
  {
   "cell_type": "code",
   "execution_count": 4,
   "metadata": {},
   "outputs": [
    {
     "name": "stdout",
     "output_type": "stream",
     "text": [
      "10\n",
      "20\n",
      "30\n"
     ]
    }
   ],
   "source": [
    "#Looping throuh an tuple by using for loop\n",
    "\n",
    "Area_Rect=(10,20,30)\n",
    "\n",
    "for Area in Area_Rect:\n",
    "    print(Area)\n",
    "#'Area' is a temparory variable"
   ]
  },
  {
   "cell_type": "code",
   "execution_count": 5,
   "metadata": {},
   "outputs": [
    {
     "name": "stdout",
     "output_type": "stream",
     "text": [
      "(40, 50, 60)\n"
     ]
    }
   ],
   "source": [
    "#Writing over tuple\n",
    "#if we want to change the values in tuple then we use this concept without error\n",
    "#if we need ti change any of the item in tuple then we need to do it from scratch i.e from starting as shown below\n",
    "\n",
    "Area_Rect=(10,20,30)\n",
    "\n",
    "Area_Rect=(40,50,60)\n",
    "\n",
    "print(Area_Rect)"
   ]
  },
  {
   "cell_type": "code",
   "execution_count": 6,
   "metadata": {},
   "outputs": [
    {
     "name": "stdout",
     "output_type": "stream",
     "text": [
      "original values:\n",
      "1\n",
      "2\n",
      "3\n"
     ]
    }
   ],
   "source": [
    "Area_Tri=(1,2,3)\n",
    "print(\"original values:\")\n",
    "\n",
    "for x in Area_Tri:\n",
    "    print(x)\n"
   ]
  },
  {
   "cell_type": "code",
   "execution_count": 7,
   "metadata": {},
   "outputs": [
    {
     "name": "stdout",
     "output_type": "stream",
     "text": [
      "\n",
      " Modified Values:\n",
      "4\n",
      "5\n",
      "6\n"
     ]
    }
   ],
   "source": [
    "Area_Tri=(4,5,6)\n",
    "print(\"\\n Modified Values:\")\n",
    "\n",
    "for x in Area_Tri:\n",
    "    print(x)\n"
   ]
  },
  {
   "cell_type": "code",
   "execution_count": 9,
   "metadata": {},
   "outputs": [
    {
     "name": "stdout",
     "output_type": "stream",
     "text": [
      "Audi\n",
      "BMW\n",
      "Benz\n",
      "Toyota\n"
     ]
    }
   ],
   "source": [
    "#Styling Guide----->PEP8\n",
    "#PEP---->Python enhancement Proposals\n",
    "#1 line length---->should not exceed more than 80 words\n",
    "#2 Maintaining blank lines\n",
    "#3 Indentation----->4 spaces of lines\n",
    "\n",
    "#1 if my car is bmw then i want to be in uppercase\n",
    "#2 if not other car then i want it to be title case\n",
    "cars=['audi','bmw','benz','toyota']\n",
    "\n",
    "for car in cars:\n",
    "    if car=='bmw':\n",
    "        print(car.upper())\n",
    "    else:\n",
    "        print(car.title())"
   ]
  },
  {
   "cell_type": "code",
   "execution_count": 10,
   "metadata": {},
   "outputs": [
    {
     "data": {
      "text/plain": [
       "True"
      ]
     },
     "execution_count": 10,
     "metadata": {},
     "output_type": "execute_result"
    }
   ],
   "source": [
    "#True or false of the statement:\n",
    "\n",
    "#1\n",
    "car='rangeover'\n",
    "\n",
    "#car=='rangeover'\n",
    "car.title()=='Rangeover'"
   ]
  },
  {
   "cell_type": "code",
   "execution_count": 11,
   "metadata": {},
   "outputs": [
    {
     "data": {
      "text/plain": [
       "True"
      ]
     },
     "execution_count": 11,
     "metadata": {},
     "output_type": "execute_result"
    }
   ],
   "source": [
    "#Checking wheather a value is in list:\n",
    "\n",
    "requested_toppings=['mushroom','corn','pineapple']\n",
    "\n",
    "#'mushroom' in requested_toppings\n",
    "#'mushroom' not in requested_toppings\n",
    "\n",
    "'pepperoni' not in requested_toppings"
   ]
  },
  {
   "cell_type": "code",
   "execution_count": 12,
   "metadata": {},
   "outputs": [
    {
     "name": "stdout",
     "output_type": "stream",
     "text": [
      "you are old enough to vote!\n"
     ]
    }
   ],
   "source": [
    "#Boolean Expressions:\n",
    "#it declares true or false of the given condition\n",
    "\n",
    "age=19\n",
    "\n",
    "if age>=18:\n",
    "    print('you are old enough to vote!')\n",
    "else:\n",
    "    print('sorry,you are too young to vote!')"
   ]
  },
  {
   "cell_type": "code",
   "execution_count": 13,
   "metadata": {},
   "outputs": [
    {
     "name": "stdout",
     "output_type": "stream",
     "text": [
      "Tell me something and i will repeat it for you Hi\n",
      "Hi\n"
     ]
    }
   ],
   "source": [
    "#Introduction to user inputs:\n",
    "\n",
    "message=input(\"Tell me something and i will repeat it for you \")\n",
    "\n",
    "print(message)\n"
   ]
  },
  {
   "cell_type": "code",
   "execution_count": 14,
   "metadata": {},
   "outputs": [
    {
     "name": "stdout",
     "output_type": "stream",
     "text": [
      "how old are you? 26\n",
      "26\n"
     ]
    }
   ],
   "source": [
    "age=input(\"how old are you? \")\n",
    "\n",
    "print(age)"
   ]
  },
  {
   "cell_type": "code",
   "execution_count": null,
   "metadata": {},
   "outputs": [],
   "source": []
  }
 ],
 "metadata": {
  "kernelspec": {
   "display_name": "Python 3",
   "language": "python",
   "name": "python3"
  },
  "language_info": {
   "codemirror_mode": {
    "name": "ipython",
    "version": 3
   },
   "file_extension": ".py",
   "mimetype": "text/x-python",
   "name": "python",
   "nbconvert_exporter": "python",
   "pygments_lexer": "ipython3",
   "version": "3.7.3"
  }
 },
 "nbformat": 4,
 "nbformat_minor": 2
}
