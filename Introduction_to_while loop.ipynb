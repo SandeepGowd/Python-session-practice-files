{
 "cells": [
  {
   "cell_type": "code",
   "execution_count": 1,
   "metadata": {},
   "outputs": [
    {
     "name": "stdout",
     "output_type": "stream",
     "text": [
      "1\n",
      "2\n",
      "3\n",
      "4\n",
      "5\n"
     ]
    }
   ],
   "source": [
    "#Intoduction to while loop\n",
    "\n",
    "current_number=1\n",
    "\n",
    "while current_number<=5:\n",
    "    print(current_number)\n",
    "    current_number=current_number+1"
   ]
  },
  {
   "cell_type": "code",
   "execution_count": 2,
   "metadata": {},
   "outputs": [
    {
     "name": "stdout",
     "output_type": "stream",
     "text": [
      "Hello\n"
     ]
    }
   ],
   "source": [
    "#Introduction to function:\n",
    "#Functions are used for repetative process\n",
    "def greet_users():\n",
    "    print(\"Hello\")\n",
    "    \n",
    "greet_users()"
   ]
  },
  {
   "cell_type": "code",
   "execution_count": 9,
   "metadata": {},
   "outputs": [
    {
     "name": "stdout",
     "output_type": "stream",
     "text": [
      "Hello,Hi Python!\n"
     ]
    }
   ],
   "source": [
    "def greet_user(username):\n",
    "#username is a parameter\n",
    "#Display a simple greeting to user loged in\n",
    "   print(f\"Hello,{username.title()}!\")\n",
    "greet_user('Hi Python') #Function Calling\n"
   ]
  },
  {
   "cell_type": "code",
   "execution_count": 6,
   "metadata": {},
   "outputs": [
    {
     "name": "stdout",
     "output_type": "stream",
     "text": [
      "\n",
      " I have a husky\n",
      "myhusky's name is Bruno\n"
     ]
    }
   ],
   "source": [
    "#More information about passing arguments\n",
    "#1.Positional aruments\n",
    "#2.Keyword arguments\n",
    "\n",
    "#1.Positional arguments:\n",
    "def describe_pet(animal_type,pet_name):\n",
    "    print(f\"\\n I have a {animal_type}\")\n",
    "    print(f\"my{animal_type}'s name is {pet_name.title()}\")\n",
    "describe_pet('husky','bruno')"
   ]
  },
  {
   "cell_type": "code",
   "execution_count": 10,
   "metadata": {},
   "outputs": [
    {
     "name": "stdout",
     "output_type": "stream",
     "text": [
      "\n",
      " I have a husky\n",
      "myhusky's name is Bruno\n"
     ]
    }
   ],
   "source": [
    "#2 Keyword arguments\n",
    "describe_pet(pet_name='bruno',animal_type='husky')\n",
    "#pet_name is keyword"
   ]
  },
  {
   "cell_type": "code",
   "execution_count": null,
   "metadata": {},
   "outputs": [],
   "source": []
  }
 ],
 "metadata": {
  "kernelspec": {
   "display_name": "Python 3",
   "language": "python",
   "name": "python3"
  },
  "language_info": {
   "codemirror_mode": {
    "name": "ipython",
    "version": 3
   },
   "file_extension": ".py",
   "mimetype": "text/x-python",
   "name": "python",
   "nbconvert_exporter": "python",
   "pygments_lexer": "ipython3",
   "version": "3.7.3"
  }
 },
 "nbformat": 4,
 "nbformat_minor": 2
}
