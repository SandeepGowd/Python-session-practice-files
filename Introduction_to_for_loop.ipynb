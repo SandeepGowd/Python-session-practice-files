{
 "cells": [
  {
   "cell_type": "code",
   "execution_count": 2,
   "metadata": {},
   "outputs": [
    {
     "name": "stdout",
     "output_type": "stream",
     "text": [
      "harry\n",
      "dumbeldore\n",
      "hormanie\n",
      "anand\n"
     ]
    }
   ],
   "source": [
    "#Introduction to for loop\n",
    "\n",
    "#--looping through an entire list. #iteration\n",
    "\n",
    "magicians=['harry','dumbeldore','hormanie','anand']\n",
    "\n",
    "for magician in magicians:\n",
    "    print(magician)\n",
    "\n",
    "#This space is called as indentation. 4 lines of free space adviced by the python"
   ]
  },
  {
   "cell_type": "code",
   "execution_count": 5,
   "metadata": {},
   "outputs": [
    {
     "name": "stdout",
     "output_type": "stream",
     "text": [
      "Harry, that was a great trick!\n",
      "Dumbeldore, that was a great trick!\n",
      "Hormanie, that was a great trick!\n",
      "Anand, that was a great trick!\n",
      "I cannot wait to see your next trick, Anand\n"
     ]
    }
   ],
   "source": [
    "magicians=['harry','dumbeldore','hormanie','anand']\n",
    "\n",
    "for magician in magicians:\n",
    "    print(f\"{magician.title()}, that was a great trick!\")\n",
    "    \n",
    "print(f\"I cannot wait to see your next trick, {magician.title()}\")"
   ]
  },
  {
   "cell_type": "code",
   "execution_count": 6,
   "metadata": {},
   "outputs": [
    {
     "name": "stdout",
     "output_type": "stream",
     "text": [
      "1\n",
      "2\n",
      "3\n",
      "4\n"
     ]
    }
   ],
   "source": [
    "#Making numerical list.....!!\n",
    "\n",
    "for x in range(1,5):\n",
    "    print(x)\n",
    "    \n",
    "#How the range function works?\n",
    "\n",
    "#non inclusive and exclusive value "
   ]
  },
  {
   "cell_type": "code",
   "execution_count": 8,
   "metadata": {},
   "outputs": [
    {
     "name": "stdout",
     "output_type": "stream",
     "text": [
      "[1, 2, 3, 4, 5]\n"
     ]
    }
   ],
   "source": [
    "#How to store the range values in the list\n",
    "#using range to make a list to numbers\n",
    "\n",
    "numbers=list(range(1,6))\n",
    "print(numbers)"
   ]
  },
  {
   "cell_type": "code",
   "execution_count": 10,
   "metadata": {},
   "outputs": [
    {
     "name": "stdout",
     "output_type": "stream",
     "text": [
      "[2, 4, 6, 8, 10, 12, 14, 16, 18]\n"
     ]
    }
   ],
   "source": [
    "#How to print even numbers from the range?\n",
    "\n",
    "even_numbers=list(range(2,20,2))\n",
    "print(even_numbers)\n",
    "\n",
    "#Here 2 (thrid parameter) is the step for calculation "
   ]
  },
  {
   "cell_type": "code",
   "execution_count": 13,
   "metadata": {},
   "outputs": [
    {
     "name": "stdout",
     "output_type": "stream",
     "text": [
      "1\n",
      "9\n",
      "35\n"
     ]
    }
   ],
   "source": [
    "#How to perform asimple statistical operation on a list?\n",
    "\n",
    "digits=[1,2,3,5,7,8,9]\n",
    "#how to get the minumum value from the list\n",
    "print(min(digits))\n",
    "\n",
    "#how to get the maximum value from the list\n",
    "digits=[1,2,3,5,7,8,9]\n",
    "print(max(digits))\n",
    "\n",
    "#how to get the sum value from the list\n",
    "digits=[1,2,3,5,7,8,9]\n",
    "print(sum(digits))"
   ]
  },
  {
   "cell_type": "code",
   "execution_count": 14,
   "metadata": {},
   "outputs": [
    {
     "name": "stdout",
     "output_type": "stream",
     "text": [
      "['yuvraj', 'sachin', 'dhoni', 'dravid', 'kumble']\n",
      "['dhoni', 'dravid', 'kumble']\n"
     ]
    }
   ],
   "source": [
    "#slicing of list\n",
    "\n",
    "players =['yuvraj','sachin','dhoni','dravid','kumble']\n",
    "print(players)\n",
    "\n",
    "#How to print out the values from dhoni to kumble?\n",
    "\n",
    "print(players[2:5])"
   ]
  },
  {
   "cell_type": "code",
   "execution_count": null,
   "metadata": {},
   "outputs": [],
   "source": []
  }
 ],
 "metadata": {
  "kernelspec": {
   "display_name": "Python 3",
   "language": "python",
   "name": "python3"
  },
  "language_info": {
   "codemirror_mode": {
    "name": "ipython",
    "version": 3
   },
   "file_extension": ".py",
   "mimetype": "text/x-python",
   "name": "python",
   "nbconvert_exporter": "python",
   "pygments_lexer": "ipython3",
   "version": "3.7.3"
  }
 },
 "nbformat": 4,
 "nbformat_minor": 2
}
